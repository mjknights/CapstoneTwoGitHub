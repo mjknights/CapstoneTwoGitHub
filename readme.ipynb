{
 "cells": [
  {
   "cell_type": "markdown",
   "id": "0749389a-4386-4967-8384-8fa14b15872a",
   "metadata": {},
   "source": [
    "# House Hold Electricity Usage Predictor "
   ]
  },
  {
   "cell_type": "markdown",
   "id": "1ba870e9-baab-4540-8edf-a818c9ef833d",
   "metadata": {},
   "source": [
    "Household electricity usage is dependent on various factors such as household occupancy, location, and structural features. Per the U.S. Energy Information Administation (EIA), 52% of household energy consumption is used for space heating and air conditioning. Heating and air conditioning usage vary significantly based on location, home size and structure, and equpment and fuels used. 25% of household energy usage consists of water heating, lighting, and refrigeration (i.e. year round energy use). The remaining 23% consists of devices such as televisions, cooking appliances, washer and dryers, and consumer electronics (i.e. computers, smart phones, video game consoles, streaming devices, etc.). The purpose of this project is to develope a predictive model which estimates household electricity usage based on factors such as household occupancy, location, and structural features. "
   ]
  },
  {
   "cell_type": "markdown",
   "id": "07b5398e-2ae7-41f0-98d2-f230d572469c",
   "metadata": {},
   "source": [
    "## 1. Data"
   ]
  },
  {
   "cell_type": "markdown",
   "id": "21d1e61b-ebbe-4871-ba54-979e1ae12d76",
   "metadata": {},
   "source": [
    "The Residential Energy Consumption Survey (RECS), first conducted in 1978, uses mail and/or web forms to collect details regarding engery characteristics on housing units, usage patterns, and household demographics. Used in conjuction with data from energy suppliers (estimates of energy costs and usage for heating, cooling, appliances, etc.) the U.S. EIA develops predictions to better meet future energy damands as well as to improve the energy efficieny and building designs. \n",
    "\n",
    "The RECS data used in this analysis was published in 2009, consisting of the data collected in 2005. Refer to the links below to access the original datasets published by the EIA:\n",
    "* [Data](https://www.eia.gov/consumption/residential/data/2005/index.php?view=characteristics)\n",
    "* [Microdata](https://www.eia.gov/consumption/residential/data/2005/index.php?view=microdata)\n",
    "\n",
    "The 2005 RECS data consists of over 700 columns and 5,000 rows of data, and is organized in several files. For the purposes of this project, key data were extracted from the survey to include information regarding location, home size, and energy usages. This data may be found under the following subsections on the [2005 RECS Survey Data](https://www.eia.gov/consumption/residential/data/2015/) website. \n",
    "* [Household Characteristics](https://www.eia.gov/consumption/residential/data/2005/mdatfiles/RECS05file8.csv)\n",
    "* [Energy Consumption](https://www.eia.gov/consumption/residential/data/2005/mdatfiles/RECS05file11.csv)\n",
    "\n",
    "It is important to note, the data extracted from the two supporting spreadsheets contain data on 4,382 households. The discrepancy between the full dataset and the supporting data files is unknown to the author. "
   ]
  },
  {
   "cell_type": "markdown",
   "id": "ce61ae06-4a04-47a5-969d-e49a822049c9",
   "metadata": {},
   "source": [
    "## 2. Data Cleaning "
   ]
  },
  {
   "cell_type": "markdown",
   "id": "8a340c27-50ff-4d64-ac50-bc02e7f157e9",
   "metadata": {},
   "source": [
    "Data cleaning was completed in the following notebooks: "
   ]
  },
  {
   "cell_type": "markdown",
   "id": "180b659d-70f9-4fb7-90ad-974c45018baa",
   "metadata": {},
   "source": [
    "* [Data Cleaning Report](https://github.com/mjknights/CapstoneTwoGitHub/blob/main/notebooks/02_data_wrangling_10.19.24.ipynb)\n",
    "* [Statistical Analaysis](https://github.com/mjknights/CapstoneTwoGitHub/blob/main/notebooks/03_Statisitical_Analysis-Copy1.ipynb)\n",
    "* [Modeling](https://github.com/mjknights/CapstoneTwoGitHub/blob/main/notebooks/05_Modeling.ipynb)"
   ]
  },
  {
   "cell_type": "markdown",
   "id": "9fcc9b33-2d21-4325-b737-5811e88d6fb0",
   "metadata": {},
   "source": [
    "#### Summary of Existing Data"
   ]
  },
  {
   "cell_type": "markdown",
   "id": "0e2d98d8-c4a7-40ea-ab19-4c0c803ff0b0",
   "metadata": {},
   "source": [
    "The original dataframe consisted of two merged tables (Household Characteristics and Energy Consumption). These tables contained 4,382 rows, and 32 and 122 columns, respectively. The data related to house hold energy consumption, appliance usage, cooling/heating, and square footage was extracted from the datasets. "
   ]
  },
  {
   "cell_type": "markdown",
   "id": "bbf4e24c-90d6-49f9-ab32-79a994fe3e4c",
   "metadata": {},
   "source": [
    "#### Cleaning Data "
   ]
  },
  {
   "cell_type": "markdown",
   "id": "435af34d-c495-40d6-8760-998e602b8a5c",
   "metadata": {},
   "source": [
    "The dataframe was examined for duplicates and missing information. Duplicate columns were confirmed to have repeating data, and the replicated information was removed from the dataframe. Missing values were replaced by the median value of the given column, allowing valuable data within the row to remain in the analysis. Note, the median value was chosen over the mean because the median is less sensitive to extreme values, or outlier data. \n",
    "\n",
    "The square footage of the holdholds were checked by comparing the total square footage to the square footage of home components (i.e attic, basement, air-conditioned area, etc.). 2,108 rows have confliting data regarding the air-conditioned square footage. This is approximately 48% of the households in the dataset. The data was collected through homeowner surveys. It can be assumed the total air-conditioned square footage was not broken down in square footage of the attic, basement, garage, and/or the rest of the housing unit, or there is an additional area where squarefootage was not collected. Therefore, it is assumed that several of these features are missing from the dataset. We do not know how usefulness of the missing data. Therefore, these rows will not be removed from the dataset. It should be noted, the total air-conditioned footage for these homes is less than or equal to the total square footage of the home.\n",
    "\n",
    "Several columns contained extranious information not pertaining to the household data:  survey year, questionnaire codes, and final weight. The survey year (2005) was identical for all households. The questionnarie code represented whether the survey was signed/unsigned, return, etc. The final weight is a statistical adjustment developed by the EIA used to apply the findings nation wide. The factor is calucated using the base sampling weight (inverse probability the holdhold is selected for sampling), nonresponse adjustment (accounted for bias due to survey nonresponses), and ratio adjustemnts (ensuring the weight is representative of the population survey). This factor was removed to focus the model on raw data collected through the RECS. "
   ]
  },
  {
   "cell_type": "markdown",
   "id": "f36c8214-62cb-4d62-9a93-473239dd106a",
   "metadata": {},
   "source": [
    "#### Removing Estimates"
   ]
  },
  {
   "cell_type": "markdown",
   "id": "a7bb7613-57d0-4eaf-99ac-6edf450bc28b",
   "metadata": {},
   "source": [
    "Several columns within the dataframe are estimates. This includes estimates of (1) appliance energy and (2) household energy usage. The appliance energy usages were developed using the survey responses to questions regarding the number, size, model/features, energy efficiency rating, and usage of the given appliance. The house hold energy usage (i.e. the dependent variable within this analysis) was developed based on energy characteristics on the housing unit, usage patterns, and household demographics. The data collected through the RECS survey is combined with data from energy suppliers estimate energy costs and usage for heating, cooling, appliances and other end uses. These data include estimates; therefore, these columns may skew the results of the predictive model. The data have been removed from the database.  "
   ]
  },
  {
   "cell_type": "markdown",
   "id": "a5f6dd4e-9592-4e60-8dcd-df8510ad24ec",
   "metadata": {},
   "source": [
    "#### Categorical Data"
   ]
  },
  {
   "cell_type": "markdown",
   "id": "b330b75c-7c02-457f-880b-538e3bb0f414",
   "metadata": {},
   "source": [
    "Categorical data, including the census region, census division, four largest states, and home type were included within the dataframe. The four largest states category denotes the whether the household is located within one of the four largest states based on residential energy consumption (during the 2005 these states included New York, California, Texas and Florida). The categorical data was converted into binary columns each representing a category (i.e. dummy variables). THe binary columns allow the data to be included within regression models. Therefore, the results of the analysis will include the statistical relationship between the categorical variables and electricity use.  "
   ]
  },
  {
   "cell_type": "markdown",
   "id": "7229fce8-a9c7-48b0-b333-b747b93e3695",
   "metadata": {},
   "source": [
    "#### Review Distributions "
   ]
  },
  {
   "cell_type": "markdown",
   "id": "cc98ac9d-9f71-4935-8401-b13b8d2babbd",
   "metadata": {},
   "source": [
    "The distributions of features within the data frame was examined for obvious outliers and data patterns. The distributions were also examined to ensure the data values looked sensible and there were no obvious errors. The visual anlaysis identified several columns with wide distributions (Mail Question Codes, and Natural Gas/Fuel/Oil/Kerosene/LPG purchased). Additionally, the square footage and appliance usage graphs showed a small number of extreme values.\n",
    "\n",
    "The freezer, refrigerator and water heater usages have outlier values significantly higher than 99.9% of the data. The rows with outliers values greater that the last 0.1% were removed from the dataset. These values were removed due to potential for error throughout the row, and/or because the energy usage within these homes is not representative. This will prevent the model being overly influenced by some extreme values. \n",
    "\n",
    "The data distribution of household square footage were compared. These columns summarized the total square footage of each home, as well as provided a break down of the square footage of various components of the home (i.e. attic, basement, garage, air-conditioned area, heated area, etc.). The repeatative data may skew the model, potentially leading overfitting and biasis predictions due to reduced generalizability. Therefore, only the total square footage was used in the analysis. "
   ]
  },
  {
   "cell_type": "markdown",
   "id": "053baed7-b30b-47e3-9657-dcdf50b145de",
   "metadata": {},
   "source": [
    "#### Final Dataframe "
   ]
  },
  {
   "cell_type": "markdown",
   "id": "8dd7d051-d5cf-47ba-b131-2d9b49e11822",
   "metadata": {},
   "source": [
    "The final dataframe which will be used in the analysis consists of 4,370 rows, and 37 columns."
   ]
  },
  {
   "cell_type": "markdown",
   "id": "2e107421-0e76-4bc0-b8ff-89d4ff7caf06",
   "metadata": {},
   "source": [
    "## 3. Analysis "
   ]
  },
  {
   "cell_type": "markdown",
   "id": "b3ab6e99-9697-4dfa-a29b-e116a166b0cb",
   "metadata": {},
   "source": [
    "The statistical analysis and data processing was completed in the following notebooks: "
   ]
  },
  {
   "cell_type": "markdown",
   "id": "f5d19d50-77e2-4a9a-95d6-63cbc9d34953",
   "metadata": {},
   "source": [
    "* [Statistical Analysis](https://github.com/mjknights/CapstoneTwoGitHub/blob/main/notebooks/03_Statisitical_Analysis-Copy1.ipynb)\n",
    "* [Pre-Processing & Training Data](http://localhost:8890/notebooks/Downloads/USF/CapstoneTwoGitHub-main/CapstoneTwoGitHub-main/notebooks/04_Pre-processing&TrainingData.ipynb?)"
   ]
  },
  {
   "cell_type": "markdown",
   "id": "39fda8e8-3f6e-45c9-88cb-49374e96623e",
   "metadata": {},
   "source": [
    "#### Scale Standarization "
   ]
  },
  {
   "cell_type": "markdown",
   "id": "705b4f74-c9e9-4f86-872e-28ade11f894a",
   "metadata": {},
   "source": [
    "Machine learning algorithms typically assume input features follow a normal distrubtion. Therefore, data standardization was used to center and scale the all values within the dataframe. The method independently centered and scaled the features using the mean and standard deviation of each column, bringing all data within the dataframe to the same scale. The features in the resulting dataframe are centered around zero (i.e. mean is equal to zero) and have a variance of one (i.e. the standard deviation is equal to one). Additionally, scale standarization was used to ensure the feature inputs contribute equally to the model, reducinng biased predictions.  "
   ]
  },
  {
   "cell_type": "markdown",
   "id": "1bee5da8-edc6-4384-b2a7-bafc0956ae1d",
   "metadata": {},
   "source": [
    "#### Feature Correlation Heatmap "
   ]
  },
  {
   "cell_type": "markdown",
   "id": "4fafa012-5731-4be3-a188-7aeb26f35d15",
   "metadata": {},
   "source": [
    "The scaled data is reduced to two dimensional data using the PCA transformation to aid in visualization and data comparision. The resultingdata base was used to create a heatmap, shoing a high level view of the relationships between each feature. The correlation matrix, represented using color gradients, displayed the strength and direction of the each of these correlations. A value of positive one represents a prefect positive coorelation, whereas a value of negative one represents a prefect negative coorelation. A value of zero indicates no linear correlation between the features. \n",
    "\n",
    "The following conclusions were drawn from the analysis. The heatmap shows a stronger (0.37 to 0.21) positive correlation between electricity usage and households located in the south altantic census region, number of cool days, square footage, and single family homes. Whereas, the heatmap shows a stronger (-0.24 to -0.19) negative correlation between elevtricity usage and apartment builtings with more than 5 units, households located in the northeast census region and California, and number of heat days. "
   ]
  },
  {
   "cell_type": "markdown",
   "id": "715c8f4a-b421-468a-8c05-8b820ad4f91c",
   "metadata": {},
   "source": [
    "#### Split Data"
   ]
  },
  {
   "cell_type": "markdown",
   "id": "dc4b4ea8-f9af-4b44-b66c-4012a9b3f4f8",
   "metadata": {},
   "source": [
    "The data was partitioned into training and testing sets. This allows the model to learn from the training dataset, while the testing dataset is used as an independent assessment of the model (i.e. validation). This means the overall model selection process is fitting to one specific data set. Then the model is cross-validated as a final check on expected future performance.\n",
    "\n",
    "Following common practice, the dataframe was split 75% to 25%, training to testing. This will allow the model to effectively learn underlying patterns and relationships, then evaluate the data not observed during training. "
   ]
  },
  {
   "cell_type": "markdown",
   "id": "d36ca868-10b6-465c-b218-922548ef64c3",
   "metadata": {},
   "source": [
    "### 4. Modeling "
   ]
  },
  {
   "cell_type": "markdown",
   "id": "06e45376-6e73-4a44-8478-840c08281e1d",
   "metadata": {},
   "source": [
    "#### Linear Regression Model - Multiple Linear Regression"
   ]
  },
  {
   "cell_type": "markdown",
   "id": "f2d37efa-71df-4437-82f2-1e5ed9e79fc8",
   "metadata": {},
   "source": [
    "A multiple linear regression model is used to predict a continous dependent variable (electricity usage) based on multiple independent variables, assuming a linear relationship (i.e. the dependent variable changes proportionally with the independent variables) while minimizing the average error. \n",
    "\n",
    "The R-Squared coefficient, or coefficient of determination, is the proportion of the variation in the dependent variable that is predicted from the independent variable (i.e. a measure of how successfully the model predicts variations in the data away from the mean). An R-Squared value of 1 means a perfect model, which explains 100 percent of the variation. Whereas, an R-Squared value of zero indicates the model cannot explain the variation of the data. \n",
    "\n",
    "The linear regression model yielded an R-Squared value of approximately 0.36 (or 37%). \n",
    "\n",
    "The predicted values (y-axis) from the model were plotted against the actual results (x-axis). There is a visible positive correlation, but it is clear it is not maximally accurate. "
   ]
  },
  {
   "cell_type": "markdown",
   "id": "80092ed4-fc7f-4c78-bffa-956bc3c70695",
   "metadata": {},
   "source": [
    "![LinearRegression](\\\\images\\\\LinearRegression.jpeg)"
   ]
  },
  {
   "cell_type": "markdown",
   "id": "184cce56-17cc-4e48-82e6-4389d3abcbf2",
   "metadata": {},
   "source": [
    "#### Regrssion Model - Ordinary Least Squares "
   ]
  },
  {
   "cell_type": "markdown",
   "id": "997f07fe-5e63-4ff5-9c65-434b048a1076",
   "metadata": {},
   "source": [
    "Ordinary least squares is a type of linear regression model. The model is used to predict a continous dependent variable (electricity usage) based on multiple independent variables, assuming a linear relationship (i.e. the dependent variable changes proportionally with the independent variables) while minimizing the sum of square differences between the dependent variable and independent variables. \n",
    "\n",
    "The R-Squared coefficient was 0.36 (or 36%) which is the same as the previous model. This is because the model use the same algorithm and the same data. \n",
    "\n",
    "The probability value (or p-value) describes the likelihood of obtaining the observed data under the null hypothesis of a statistical test (i.e. the likelihood no statistical significance exists). A p-value of 0.05 or lower is generally considered statistically significant (i.e. reject the null hypothesis). Therefore, the p-value was calculated for each features, and features with p-values greater than 0.05 were removed from the analysis. \n",
    "\n",
    "The model was run again, and the R-squared value decreased to approximately 0.33 (or 33%). R-squared may have decrease due to (i) overfitting the previous data or (ii) model strucuture. The features removed from the dataframe may have been correlated (or collinear) or a removed feature may have been absorbing variance of the dependent variable. \n",
    "\n",
    "The linear regression models are not a good representation of the data. "
   ]
  },
  {
   "cell_type": "markdown",
   "id": "fba3b932-4ef1-4fb5-8282-f5db9e4ef959",
   "metadata": {},
   "source": [
    "![OLS](\\\\images\\\\OLS.png)"
   ]
  },
  {
   "cell_type": "markdown",
   "id": "ce8f1f40-1bb7-494c-be94-09bb7e54572b",
   "metadata": {},
   "source": [
    "#### Decision Tree - Entropy Model "
   ]
  },
  {
   "cell_type": "markdown",
   "id": "7fd9dd47-c71e-4263-9578-d3836018ad2d",
   "metadata": {},
   "source": [
    "Decision trees are supervised learning algorithms used for classification and regression. The goal of the model is to predict the value of a target variable (electricity usage) by learning simple decision rules inferred from the data features (independent variables), creating a piecewise approximation. Entropy, or the measure of uncertainty, is used within a decision tree to determine the features to split at each node. Note, the goal is to minimize the entropy after each split. The resulting model reduces entropy, or uncertainty, by dividing a dataset based on feature values and increasing information gain. \n",
    "\n",
    "The accuracy score represents the ratio of true positives and true negatives within all of the predictions (i.e. (True Positives + True Negatives) / (Total Predictions)). An accuracy score of one represents 100% correct classification. Whereas, as score of zero represents 100% incorrect classification. The accuracy score of the model is approximately 0.71 (71%). \n",
    "\n",
    "The balanced accuracy score is a measure of skewed models. The balanced accuracy score is approximately 0.14 (14%). This low score may indicate the model is not effectively capturing patters within the data, potentally due to overfitting the training dataset. \n",
    "\n",
    "The precision score of the model is the ratio of true positives to the sum of true positives and false positives, or the ability of the model to correctly classify the data. A precision score of one represents 100% correct classification. Whereas, as score of zero represents 100% incorrect classification. The precision scores for true positives and true negatives are approximately 0.51 (51%). \n",
    "\n",
    "The recall score of the model is the ratio of true posities to the sume of true positives and false negatives. A recall score of one represents 100% correct classification. Whereas, as score of zero represents 100% incorrect classification. The recall score for true positives and true negatives is approximately 0.71 (71%). "
   ]
  },
  {
   "cell_type": "markdown",
   "id": "04df39f3-b636-4b49-9641-7eb2b0b6e7c7",
   "metadata": {},
   "source": [
    "#### Random Forest Model "
   ]
  },
  {
   "cell_type": "markdown",
   "id": "3442073e-d3cb-4658-816f-25631b3a51f6",
   "metadata": {},
   "source": [
    "A random forest model is an ensemble of decision trees. The Random Forest algorithm introduces additional randomness when growing trees; instead of searching for the very best feature when splitting a node, it searches for the best feature among a random subset of features. This results in a greater tree diversity, which trades a higher bias for a lower variance, generally yielding an overall better model.\n",
    "\n",
    "The results of the model are summarized below: \n",
    "- Accuacy: 70.2%\n",
    "- Precision Score for Yes: 63.6%\n",
    "- Precision Score for No:  63.6%\n",
    "- Recall Score for Yes:  70.2%\n",
    "- Recall Sore for No:  70.2%"
   ]
  },
  {
   "cell_type": "markdown",
   "id": "74258ecc-dada-4f88-aa65-7bdf22987e28",
   "metadata": {},
   "source": [
    "## 5. Results  "
   ]
  },
  {
   "cell_type": "markdown",
   "id": "99de5e6b-e213-4baf-a19d-a830d216a5fb",
   "metadata": {},
   "source": [
    "Based on the accuacy, precision score, and recall score, the random forest model is the best representation of the data. "
   ]
  },
  {
   "cell_type": "markdown",
   "id": "6daabbc3-d029-4e17-84c8-91e8ffd44c33",
   "metadata": {},
   "source": [
    "## 6. Future Improvements "
   ]
  },
  {
   "cell_type": "markdown",
   "id": "a8218885-bd43-4d5b-b9e4-bcd158a47685",
   "metadata": {},
   "source": [
    "- The 2020 RECS study, published in January 2024, was released as the 15th iteration of the survey. This dataset was published after the start of this project. If the future, I would use the most recient survey data. This will better reflect the electricity usage of each household by better accounting for updated technology such as advancements in construction and insulation, energy-efficient appliances, integration of smart technology, etc.\n",
    "- The 2005 RECS survey includes overy 700 columns of data. However, only 37 columns were include in the final model. In a future rendition, I would include more of features. This may improve the accuracy of the model as well as provide more insite into correlations between electricity usage and the given variables. \n",
    "- The dataset used in this model includes annual wood consumption in thousands BTU. This alternative energy source should have been excluded from the analysis. This would have been consistant with the removal of other alternal energy sources such as natural gas, fuel oil, kerosene, and LPG. \n",
    "- The dataset include information on whether the holdhouses are within the four largest states cateogry from analysis. This does not add to the analysis and should be removed in future models."
   ]
  },
  {
   "cell_type": "code",
   "execution_count": null,
   "id": "1c06d243-0804-435b-b7c5-ed7db4113cfd",
   "metadata": {},
   "outputs": [],
   "source": []
  }
 ],
 "metadata": {
  "kernelspec": {
   "display_name": "Python 3 (ipykernel)",
   "language": "python",
   "name": "python3"
  },
  "language_info": {
   "codemirror_mode": {
    "name": "ipython",
    "version": 3
   },
   "file_extension": ".py",
   "mimetype": "text/x-python",
   "name": "python",
   "nbconvert_exporter": "python",
   "pygments_lexer": "ipython3",
   "version": "3.12.4"
  }
 },
 "nbformat": 4,
 "nbformat_minor": 5
}
